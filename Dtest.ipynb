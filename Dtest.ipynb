{
 "cells": [
  {
   "cell_type": "code",
   "execution_count": 156,
   "metadata": {},
   "outputs": [],
   "source": [
    "import os\n",
    "import sys\n",
    "import urllib.request\n",
    "import datetime\n",
    "import time\n",
    "import json\n",
    "import pymysql"
   ]
  },
  {
   "cell_type": "code",
   "execution_count": 157,
   "metadata": {},
   "outputs": [],
   "source": [
    "conn = pymysql.connect(\n",
    "    host = 'localhost',\n",
    "    user='root',\n",
    "    password='apmsetup',\n",
    "    db='WebData',\n",
    "    charset='utf8'\n",
    ")"
   ]
  },
  {
   "cell_type": "code",
   "execution_count": null,
   "metadata": {},
   "outputs": [],
   "source": []
  },
  {
   "cell_type": "code",
   "execution_count": 169,
   "metadata": {},
   "outputs": [
    {
     "name": "stdout",
     "output_type": "stream",
     "text": [
      "((1, '전북銀, <b>대구</b>에 ‘영남오토금융센터’ 개소', 'http://www.idaegu.co.kr/news.php?code=ec04&mode=view&num=251295', '이에 따라 <b>대구</b>·경북을 주력 영업기반으로 하는 DGB금융그룹 계열사인 <b>대구은행</b> 및 DGB캐피탈과의 치열한 자동차 할부금융 영업경쟁이 예상된다. 현재 <b>대구</b>에 점포를 두고 있는 역외 지방금융그룹은 BNK금융그룹의... ', '2018-06-06 21:18:00'), (2, '전북銀, <b>대구</b>에 ‘영남오토금융센터’ 개소', 'http://www.idaegu.co.kr/news.php?code=ec04&mode=view&num=251295', '이에 따라 <b>대구</b>·경북을 주력 영업기반으로 하는 DGB금융그룹 계열사인 <b>대구은행</b> 및 DGB캐피탈과의 치열한 자동차 할부금융 영업경쟁이 예상된다. 현재 <b>대구</b>에 점포를 두고 있는 역외 지방금융그룹은 BNK금융그룹의... ', '2018-06-06 21:18:00'), (3, 'DGB 금융지주·<b>대구은행</b>, 1분기 자본비율 모두 개선', 'http://www.idaegu.co.kr/news.php?code=ec01&mode=view&num=251230', 'DGB금융지주와 <b>대구은행</b>의 올 1분기(3월말) BIS(국제결제<b>은행</b>) 기준 자본비율이 전분기 대비 모두 개선된 것으로 나타났다. BIS 자본비율은 위험자산(부실채권) 대비 자기자본비율로 <b>은행</b>의 안전성과... ', '2018-06-06 21:04:00'), (4, 'DGB 스마트뱅킹 이용자 대상 월드컵 기념 선물 증정 이벤트', 'http://www.idaegu.com?c=5&uid=388854', 'DGB 스마트뱅킹 이용자 대상 월드컵 기념 선물 증정 이벤트 DGB 스마트뱅킹 이용자 대상 월드컵 기념 선물 증정 이벤트 DGB<b>대구은행</b>은 러시아월드컵에 참가하는 대한민국 대표팀의 선전을 기원하고 여행을 떠나는... ', '2018-06-06 20:51:00'), (5, '칠곡 북삼읍 지역사회보장협 복지사각지대 발굴 업무협약', 'http://www.idaegu.com?c=3&uid=388921', '한편 이번 협약은 북삼지구대, 북삼119안전센터, 북삼우체국, 북삼농협, <b>대구은행</b> 북삼지점, 북삼새마을금고, 북삼금오제일신협 등 7개 기관이 참여했다. 이임철 기자 im72@idaegu.com', '2018-06-06 20:50:00'), (6, 'DGB<b>대구은행</b>, 일임형ISA 누적수익률 1위', 'http://www.idaegu.com?c=5&uid=388894', 'DGB<b>대구은행</b>은 2018년 일임형ISA 누적수익률 <b>은행</b>권 1위에 올랐다. DGB<b>대구은행</b>에 따르면 지난달 31일 금융투자협회 전사공시에 따라 2018년 ISA 누적수익률이 조사대상 <b>은행</b> 중 제일 높은 9.1%를 기록했다.... ', '2018-06-06 20:50:00'), (7, '[줌인 엔터프라이즈] 첫 외부 출신 시험대…신뢰 회복 총력', 'http://www.ajunews.com/view/20180606103137828', '전임 박인규 DGB금융지주 회장 겸 <b>대구은행</b>장이 지난 4월 채용 비리와 비자금 조성 등의 혐의로 구속됐다. 그간 DGB금융그룹은 압수수색, 책임자들의 검찰 소환 등으로 인해 내부 분위기가 어수선했다. \\xa0내부 정비가... ', '2018-06-06 19:02:00'), (8, '[줌인 엔터프라이즈] DGB금융, 내부정비 사활…수익다변화로 다시 난다', 'http://www.ajunews.com/view/20180606092132797', '6일 DGB금융지주에 따르면 DGB금융은 2011년 5월 <b>대구은행</b>, DGB신용정보, 카드넷을 자회사로 하는 주식의 포괄적 이전 방식에 의해 설립됐다. 당시 <b>은행</b>들이 금융지주회사로 전환하고, 금융투자회사와의 경쟁 격화... ', '2018-06-06 19:00:00'), (9, '[줌인 엔터프라이즈] DGB금융지주 파워분석', 'http://www.ajunews.com/view/20180606114513858', '<b>대구은행</b>은 앞서 지역 주민들 덕분에 큰 위기를 넘겼다. 1998년 외환위기 직후 존폐 기로에 놓여 있을 때 주민들이 <b>대구은행</b> 유상증자에 참여했다. 주민들이 주식을 사주지 않았다면 지금의 <b>대구은행</b>은 존재하지... ', '2018-06-06 19:00:00'), (10, '<b>은행</b>권 ‘채용모범규준’ 제역할할까…‘기대 반 우려 반’', 'http://www.viva100.com/main/view.php?key=20180606010001594', 'DGB<b>대구은행</b>의 경우 필기시험을 실시해왔지만 채용비리 의혹으로 <b>은행</b>장이 사퇴한 바 있다. 객관성을 높인다는 명분이지만 인재 채용방식이 획일화될 수 있다는 비판도 있다. <b>은행</b>들이 과거 필기시험을 폐지했을 때의... ', '2018-06-06 17:36:00'))\n"
     ]
    }
   ],
   "source": [
    "cur = conn.cursor()\n",
    "cur.execute('select * from data')\n",
    "print(cur.fetchall())\n",
    "\n"
   ]
  },
  {
   "cell_type": "code",
   "execution_count": null,
   "metadata": {},
   "outputs": [],
   "source": []
  },
  {
   "cell_type": "code",
   "execution_count": null,
   "metadata": {},
   "outputs": [],
   "source": []
  },
  {
   "cell_type": "code",
   "execution_count": 159,
   "metadata": {},
   "outputs": [],
   "source": [
    "#[CODE 1]\n",
    "def get_request_url(url):\n",
    "    \n",
    "    req = urllib.request.Request(url)\n",
    "    req.add_header(\"X-Naver-Client-Id\", \"id\")\n",
    "    req.add_header(\"X-Naver-Client-Secret\", \"\")\n",
    "\n",
    "    try: \n",
    "        response = urllib.request.urlopen(req)\n",
    "        if response.getcode() == 200:\n",
    "            print (\"[%s] Url Request Success\" % datetime.datetime.now())\n",
    "            return response.read().decode('utf-8')\n",
    "    except Exception as e:\n",
    "        print(e)\n",
    "        print(\"[%s] Error for URL : %s\" % (datetime.datetime.now(), url))\n",
    "        return None\n"
   ]
  },
  {
   "cell_type": "code",
   "execution_count": 160,
   "metadata": {},
   "outputs": [],
   "source": [
    "#[CODE 2]\n",
    "def getNaverSearchResult(sNode, search_text, page_start, display):\n",
    "    \n",
    "    base = \"https://openapi.naver.com/v1/search\"\n",
    "    node = \"/%s.json\" % sNode\n",
    "    parameters = \"?query=%s&start=%s&display=%s\" % (urllib.parse.quote(search_text), page_start, display)\n",
    "    #parameters = \"?query=%s\" % urllib.parse.quote(search_text)\n",
    "    url = base + node + parameters\n",
    "    \n",
    "    retData = get_request_url(url)\n",
    "    \n",
    "    if (retData == None):\n",
    "        return None\n",
    "    else:\n",
    "        return json.loads(retData)"
   ]
  },
  {
   "cell_type": "code",
   "execution_count": 161,
   "metadata": {},
   "outputs": [],
   "source": [
    "#[CODE 3]\n",
    "def getPostData(post, jsonResult):\n",
    "    \n",
    "    title = post['title']\n",
    "    description = post['description']\n",
    "    org_link = post['originallink']\n",
    "    link = post['link']\n",
    "\n",
    "    #Tue, 14 Feb 2017 18:46:00 +0900\n",
    "    pDate = datetime.datetime.strptime(post['pubDate'],  '%a, %d %b %Y %H:%M:%S +0900')\n",
    "    pDate = pDate.strftime('%Y-%m-%d %H:%M:%S')\n",
    "    \n",
    "    jsonResult.append({'title':title, 'description': description,\n",
    "                    'org_link':org_link, 'link': org_link,\n",
    "                    'pDate':pDate})\n",
    "    return    "
   ]
  },
  {
   "cell_type": "code",
   "execution_count": 165,
   "metadata": {},
   "outputs": [],
   "source": [
    "def main():\n",
    "\n",
    "    jsonResult = []\n",
    "\n",
    "    # 'news', 'blog', 'cafearticle'\n",
    "    sNode = 'news'\n",
    "    search_text = '대구은행'\n",
    "    display_count = 10\n",
    "    \n",
    "    jsonSearch = getNaverSearchResult(sNode, search_text, 1, display_count)\n",
    "    \n",
    "    if ((jsonSearch != None) and (jsonSearch['display'] != 0)):\n",
    "        for post in jsonSearch['items']:\n",
    "            getPostData(post, jsonResult)\n",
    "        \n",
    "    # nStart = jsonSearch['start'] + jsonSearch['display']\n",
    "    # jsonSearch = getNaverSearchResult(sNode, search_text, nStart, display_count)\n",
    "    \n",
    "#     with open('%s_naver_%s.json' % (search_text, sNode), 'w', encoding='utf8') as outfile:\n",
    "#         retJson = json.dumps(jsonResult,\n",
    "#                         indent=4, sort_keys=True,\n",
    "#                         ensure_ascii=False)\n",
    "#         outfile.write(retJson)\n",
    "\n",
    "    print(len(jsonResult))\n",
    "    \n",
    "    for i in range(len(jsonResult)):\n",
    "        try :\n",
    "            sql = \"INSERT INTO data(id,title,link,des,date) VALUES (null ,'\"+jsonResult[i]['title']+\"','\"+jsonResult[i]['link']+\"','\"+jsonResult[i]['description']+\"','\"+jsonResult[i]['pDate']+\"')\"\n",
    "            cur.execute(sql)\n",
    "            conn.commit()\n",
    "        except BaseException :\n",
    "            continue\n",
    "        "
   ]
  },
  {
   "cell_type": "code",
   "execution_count": 166,
   "metadata": {},
   "outputs": [
    {
     "name": "stdout",
     "output_type": "stream",
     "text": [
      "[2018-06-06 21:24:29.278089] Url Request Success\n",
      "10\n"
     ]
    }
   ],
   "source": [
    "main()"
   ]
  },
  {
   "cell_type": "code",
   "execution_count": null,
   "metadata": {},
   "outputs": [],
   "source": []
  },
  {
   "cell_type": "code",
   "execution_count": null,
   "metadata": {},
   "outputs": [],
   "source": []
  }
 ],
 "metadata": {
  "kernelspec": {
   "display_name": "Python [default]",
   "language": "python",
   "name": "python3"
  },
  "language_info": {
   "codemirror_mode": {
    "name": "ipython",
    "version": 3
   },
   "file_extension": ".py",
   "mimetype": "text/x-python",
   "name": "python",
   "nbconvert_exporter": "python",
   "pygments_lexer": "ipython3",
   "version": "3.6.4"
  }
 },
 "nbformat": 4,
 "nbformat_minor": 2
}
